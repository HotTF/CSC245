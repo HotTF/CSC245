{
 "cells": [
  {
   "cell_type": "code",
   "execution_count": 30,
   "id": "initial_id",
   "metadata": {
    "collapsed": true,
    "ExecuteTime": {
     "end_time": "2024-02-21T00:49:29.664360400Z",
     "start_time": "2024-02-21T00:49:29.654699300Z"
    }
   },
   "outputs": [
    {
     "name": "stdout",
     "output_type": "stream",
     "text": [
      "1:\n",
      "[[11 12 13 14]\n",
      " [15 16 17 18]] \n",
      "\n",
      "2:\n",
      "[[0. 0. 0.]\n",
      " [0. 0. 0.]\n",
      " [0. 0. 0.]\n",
      " [0. 0. 0.]] \n",
      "\n",
      "3:\n",
      "[[1. 1. 1. 1.]\n",
      " [1. 1. 1. 1.]\n",
      " [1. 1. 1. 1.]] \n",
      "\n",
      "4:\n",
      "[[ 4  5  6  7  8  9 10 11 12 13]] \n",
      "\n",
      "5:\n",
      "[0.  1.5 3.  4.5]\n"
     ]
    }
   ],
   "source": [
    "import numpy as np\n",
    "#creating arrays\n",
    "#1.Create a rank 2 (2D) array that resembles the matrix below.\n",
    "#[[11 12 13 14]\n",
    "#[15 16 17 18]]\n",
    "the_2d_array=np.array([[11,12,13,14],[15,16,17,18]])\n",
    "print('1:')\n",
    "print(the_2d_array,'\\n')\n",
    "#use the appropriate functions to solve the following questions\n",
    "#1. Create an array with 4 rows and 3 columns of zeros. Your results should look as below:\n",
    "#[[0. 0. 0.]\n",
    "#[0. 0. 0.]\n",
    "#[0. 0. 0.]\n",
    "#[0. 0. 0.]]\n",
    "first_array=np.zeros((4,3))\n",
    "print('2:')\n",
    "print(first_array,'\\n')\n",
    "#2.Create an array of ones that has 3 rows and 4 columns. Your results should look as below:\n",
    "#[[1. 1. 1. 1.]\n",
    "#[1. 1. 1. 1.]\n",
    "#[1. 1. 1. 1.]]\n",
    "second_array=np.ones((3,4))\n",
    "print('3:')\n",
    "print(second_array,'\\n')\n",
    "#3. Create an array containing integers 4 to 13 inclusive. Your results should look as below:\n",
    "#[4 5 6 7 8 9 10 11 12 13]\n",
    "third_array=np.array([[4,5,6,7,8,9,10,11,12,13]])\n",
    "print('4:')\n",
    "print(third_array,'\\n')\n",
    "#4. Create an array containing\n",
    "#[0., 1.5, 3., 4.5]\n",
    "fourth_array=np.array([0,1.5,3,4.5],dtype=np.double)\n",
    "print('5:')\n",
    "print(fourth_array)"
   ]
  }
 ],
 "metadata": {
  "kernelspec": {
   "display_name": "Python 3",
   "language": "python",
   "name": "python3"
  },
  "language_info": {
   "codemirror_mode": {
    "name": "ipython",
    "version": 2
   },
   "file_extension": ".py",
   "mimetype": "text/x-python",
   "name": "python",
   "nbconvert_exporter": "python",
   "pygments_lexer": "ipython2",
   "version": "2.7.6"
  }
 },
 "nbformat": 4,
 "nbformat_minor": 5
}
